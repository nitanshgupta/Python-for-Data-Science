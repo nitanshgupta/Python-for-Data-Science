{
 "cells": [
  {
   "cell_type": "markdown",
   "metadata": {},
   "source": [
    "# Assignment 2 (Solution)\n",
    "## Programming for Data Science (BUAN 6340)\n",
    "\n",
    "### <font color='red'>Due Date: Oct 20, 2019 11:59pm</font> "
   ]
  },
  {
   "cell_type": "markdown",
   "metadata": {},
   "source": [
    "Deliverables:\n",
    "\n",
    "- Write down your codes in the given cells described in this file, denoted as \"YOUR CODES\"\n",
    "- Use \"download as\" in the \"file\" menu to convert your ipython file to a .html file\n",
    "- Submit both .ipynb and .html files to the eLearning (you might need to compress them into one single file)\n",
    "\n",
    "\n",
    "This assignment covers data manipulation and visualization\n",
    "\n",
    "\n",
    "The total score: 100"
   ]
  },
  {
   "cell_type": "code",
   "execution_count": 1,
   "metadata": {},
   "outputs": [],
   "source": [
    "NAME = \"Nitansh Gupta\"\n",
    "Session = \"Wednesday 1-4PM (BUAN 6340.004)\""
   ]
  },
  {
   "cell_type": "markdown",
   "metadata": {},
   "source": [
    "In this assignment, we will explore an economic indicator [dataset](https://www.kaggle.com/worldbank/world-development-indicators). \n",
    "\n",
    "Please downloand **indicator.csv** from eLearning."
   ]
  },
  {
   "cell_type": "code",
   "execution_count": 2,
   "metadata": {},
   "outputs": [],
   "source": [
    "import numpy as np\n",
    "import pandas as pd\n",
    "import matplotlib.pyplot as plt"
   ]
  },
  {
   "cell_type": "code",
   "execution_count": 3,
   "metadata": {},
   "outputs": [
    {
     "data": {
      "text/plain": [
       "(5656458, 6)"
      ]
     },
     "execution_count": 3,
     "metadata": {},
     "output_type": "execute_result"
    }
   ],
   "source": [
    "#Import data\n",
    "world = pd.read_csv('C:\\\\Users\\\\nitan\\\\Desktop\\\\UTD Acads\\\\2 - Programmming for Data Science - Wednesday\\\\Indicators\\\\Indicators.csv')\n",
    "world.shape"
   ]
  },
  {
   "cell_type": "code",
   "execution_count": 4,
   "metadata": {},
   "outputs": [
    {
     "data": {
      "text/html": [
       "<div>\n",
       "<style scoped>\n",
       "    .dataframe tbody tr th:only-of-type {\n",
       "        vertical-align: middle;\n",
       "    }\n",
       "\n",
       "    .dataframe tbody tr th {\n",
       "        vertical-align: top;\n",
       "    }\n",
       "\n",
       "    .dataframe thead th {\n",
       "        text-align: right;\n",
       "    }\n",
       "</style>\n",
       "<table border=\"1\" class=\"dataframe\">\n",
       "  <thead>\n",
       "    <tr style=\"text-align: right;\">\n",
       "      <th></th>\n",
       "      <th>CountryName</th>\n",
       "      <th>CountryCode</th>\n",
       "      <th>IndicatorName</th>\n",
       "      <th>IndicatorCode</th>\n",
       "      <th>Year</th>\n",
       "      <th>Value</th>\n",
       "    </tr>\n",
       "  </thead>\n",
       "  <tbody>\n",
       "    <tr>\n",
       "      <th>0</th>\n",
       "      <td>Arab World</td>\n",
       "      <td>ARB</td>\n",
       "      <td>Adolescent fertility rate (births per 1,000 wo...</td>\n",
       "      <td>SP.ADO.TFRT</td>\n",
       "      <td>1960</td>\n",
       "      <td>1.335609e+02</td>\n",
       "    </tr>\n",
       "    <tr>\n",
       "      <th>1</th>\n",
       "      <td>Arab World</td>\n",
       "      <td>ARB</td>\n",
       "      <td>Age dependency ratio (% of working-age populat...</td>\n",
       "      <td>SP.POP.DPND</td>\n",
       "      <td>1960</td>\n",
       "      <td>8.779760e+01</td>\n",
       "    </tr>\n",
       "    <tr>\n",
       "      <th>2</th>\n",
       "      <td>Arab World</td>\n",
       "      <td>ARB</td>\n",
       "      <td>Age dependency ratio, old (% of working-age po...</td>\n",
       "      <td>SP.POP.DPND.OL</td>\n",
       "      <td>1960</td>\n",
       "      <td>6.634579e+00</td>\n",
       "    </tr>\n",
       "    <tr>\n",
       "      <th>3</th>\n",
       "      <td>Arab World</td>\n",
       "      <td>ARB</td>\n",
       "      <td>Age dependency ratio, young (% of working-age ...</td>\n",
       "      <td>SP.POP.DPND.YG</td>\n",
       "      <td>1960</td>\n",
       "      <td>8.102333e+01</td>\n",
       "    </tr>\n",
       "    <tr>\n",
       "      <th>4</th>\n",
       "      <td>Arab World</td>\n",
       "      <td>ARB</td>\n",
       "      <td>Arms exports (SIPRI trend indicator values)</td>\n",
       "      <td>MS.MIL.XPRT.KD</td>\n",
       "      <td>1960</td>\n",
       "      <td>3.000000e+06</td>\n",
       "    </tr>\n",
       "  </tbody>\n",
       "</table>\n",
       "</div>"
      ],
      "text/plain": [
       "  CountryName CountryCode                                      IndicatorName  \\\n",
       "0  Arab World         ARB  Adolescent fertility rate (births per 1,000 wo...   \n",
       "1  Arab World         ARB  Age dependency ratio (% of working-age populat...   \n",
       "2  Arab World         ARB  Age dependency ratio, old (% of working-age po...   \n",
       "3  Arab World         ARB  Age dependency ratio, young (% of working-age ...   \n",
       "4  Arab World         ARB        Arms exports (SIPRI trend indicator values)   \n",
       "\n",
       "    IndicatorCode  Year         Value  \n",
       "0     SP.ADO.TFRT  1960  1.335609e+02  \n",
       "1     SP.POP.DPND  1960  8.779760e+01  \n",
       "2  SP.POP.DPND.OL  1960  6.634579e+00  \n",
       "3  SP.POP.DPND.YG  1960  8.102333e+01  \n",
       "4  MS.MIL.XPRT.KD  1960  3.000000e+06  "
      ]
     },
     "execution_count": 4,
     "metadata": {},
     "output_type": "execute_result"
    }
   ],
   "source": [
    "world.head()"
   ]
  },
  {
   "cell_type": "markdown",
   "metadata": {},
   "source": [
    "## Part I: Initial Exploration (18 points)"
   ]
  },
  {
   "cell_type": "markdown",
   "metadata": {},
   "source": [
    "**Use <font color='red'>one or two</font> lines to answer each of the following <font color='red'>FIVE</font> questions**\n",
    "\n",
    "Hint: https://pandas.pydata.org/pandas-docs/stable/reference/api/pandas.unique.html"
   ]
  },
  {
   "cell_type": "markdown",
   "metadata": {},
   "source": [
    "**Q1.1** How many UNIQUE country names are there? (3 points)"
   ]
  },
  {
   "cell_type": "code",
   "execution_count": 5,
   "metadata": {},
   "outputs": [
    {
     "data": {
      "text/plain": [
       "247"
      ]
     },
     "execution_count": 5,
     "metadata": {},
     "output_type": "execute_result"
    }
   ],
   "source": [
    "len(list(world['CountryName'].unique()))"
   ]
  },
  {
   "cell_type": "markdown",
   "metadata": {},
   "source": [
    "**Q1.2** How many years of data do we have? (3 points)"
   ]
  },
  {
   "cell_type": "code",
   "execution_count": 6,
   "metadata": {},
   "outputs": [
    {
     "name": "stdout",
     "output_type": "stream",
     "text": [
      "56\n"
     ]
    }
   ],
   "source": [
    "rangeY = max(world.Year)-min(world.Year)+1; print(rangeY)"
   ]
  },
  {
   "cell_type": "markdown",
   "metadata": {},
   "source": [
    "**Q1.3** What's the range of years? (3 points)"
   ]
  },
  {
   "cell_type": "code",
   "execution_count": 7,
   "metadata": {},
   "outputs": [
    {
     "name": "stdout",
     "output_type": "stream",
     "text": [
      "The data ranges from 2015 to 1960 i.e. 55 years of range\n"
     ]
    }
   ],
   "source": [
    "print(\"The data ranges from {} to {} i.e. {} years of range\".format(max(world.Year),min(world.Year), rangeY-1))"
   ]
  },
  {
   "cell_type": "markdown",
   "metadata": {},
   "source": [
    "**Q1.4** How many unique indicators? (3 points)"
   ]
  },
  {
   "cell_type": "code",
   "execution_count": 8,
   "metadata": {},
   "outputs": [
    {
     "data": {
      "text/plain": [
       "1344"
      ]
     },
     "execution_count": 8,
     "metadata": {},
     "output_type": "execute_result"
    }
   ],
   "source": [
    "len(list(world['IndicatorName'].unique()))"
   ]
  },
  {
   "cell_type": "markdown",
   "metadata": {},
   "source": [
    "**Q1.5** How many unique indiactors does United States have in 2000? (6 points)"
   ]
  },
  {
   "cell_type": "code",
   "execution_count": 9,
   "metadata": {},
   "outputs": [
    {
     "data": {
      "text/plain": [
       "849"
      ]
     },
     "execution_count": 9,
     "metadata": {},
     "output_type": "execute_result"
    }
   ],
   "source": [
    "len(list(world[world.CountryName== 'United States']['IndicatorName'].unique()))"
   ]
  },
  {
   "cell_type": "markdown",
   "metadata": {},
   "source": [
    "## Part II: Visualizaion (60 points)"
   ]
  },
  {
   "cell_type": "markdown",
   "metadata": {},
   "source": [
    "### Let's pick a country and an indicator to explore: CO2 Emissions per capita and the USA\n",
    "\n",
    "**Q2.1** Create a new dataframe where country = United State & Indicator =  'CO2 emissions (metric tons per capita)' (10 points)\n",
    "\n",
    "Expected output: size of the dataframe and the first 5 lines of the dataframe"
   ]
  },
  {
   "cell_type": "code",
   "execution_count": 10,
   "metadata": {},
   "outputs": [
    {
     "data": {
      "text/html": [
       "<div>\n",
       "<style scoped>\n",
       "    .dataframe tbody tr th:only-of-type {\n",
       "        vertical-align: middle;\n",
       "    }\n",
       "\n",
       "    .dataframe tbody tr th {\n",
       "        vertical-align: top;\n",
       "    }\n",
       "\n",
       "    .dataframe thead th {\n",
       "        text-align: right;\n",
       "    }\n",
       "</style>\n",
       "<table border=\"1\" class=\"dataframe\">\n",
       "  <thead>\n",
       "    <tr style=\"text-align: right;\">\n",
       "      <th></th>\n",
       "      <th>CountryName</th>\n",
       "      <th>CountryCode</th>\n",
       "      <th>IndicatorName</th>\n",
       "      <th>IndicatorCode</th>\n",
       "      <th>Year</th>\n",
       "      <th>Value</th>\n",
       "    </tr>\n",
       "  </thead>\n",
       "  <tbody>\n",
       "    <tr>\n",
       "      <th>22232</th>\n",
       "      <td>United States</td>\n",
       "      <td>USA</td>\n",
       "      <td>CO2 emissions (metric tons per capita)</td>\n",
       "      <td>EN.ATM.CO2E.PC</td>\n",
       "      <td>1960</td>\n",
       "      <td>15.999779</td>\n",
       "    </tr>\n",
       "    <tr>\n",
       "      <th>48708</th>\n",
       "      <td>United States</td>\n",
       "      <td>USA</td>\n",
       "      <td>CO2 emissions (metric tons per capita)</td>\n",
       "      <td>EN.ATM.CO2E.PC</td>\n",
       "      <td>1961</td>\n",
       "      <td>15.681256</td>\n",
       "    </tr>\n",
       "    <tr>\n",
       "      <th>77087</th>\n",
       "      <td>United States</td>\n",
       "      <td>USA</td>\n",
       "      <td>CO2 emissions (metric tons per capita)</td>\n",
       "      <td>EN.ATM.CO2E.PC</td>\n",
       "      <td>1962</td>\n",
       "      <td>16.013937</td>\n",
       "    </tr>\n",
       "    <tr>\n",
       "      <th>105704</th>\n",
       "      <td>United States</td>\n",
       "      <td>USA</td>\n",
       "      <td>CO2 emissions (metric tons per capita)</td>\n",
       "      <td>EN.ATM.CO2E.PC</td>\n",
       "      <td>1963</td>\n",
       "      <td>16.482762</td>\n",
       "    </tr>\n",
       "    <tr>\n",
       "      <th>134742</th>\n",
       "      <td>United States</td>\n",
       "      <td>USA</td>\n",
       "      <td>CO2 emissions (metric tons per capita)</td>\n",
       "      <td>EN.ATM.CO2E.PC</td>\n",
       "      <td>1964</td>\n",
       "      <td>16.968119</td>\n",
       "    </tr>\n",
       "  </tbody>\n",
       "</table>\n",
       "</div>"
      ],
      "text/plain": [
       "          CountryName CountryCode                           IndicatorName  \\\n",
       "22232   United States         USA  CO2 emissions (metric tons per capita)   \n",
       "48708   United States         USA  CO2 emissions (metric tons per capita)   \n",
       "77087   United States         USA  CO2 emissions (metric tons per capita)   \n",
       "105704  United States         USA  CO2 emissions (metric tons per capita)   \n",
       "134742  United States         USA  CO2 emissions (metric tons per capita)   \n",
       "\n",
       "         IndicatorCode  Year      Value  \n",
       "22232   EN.ATM.CO2E.PC  1960  15.999779  \n",
       "48708   EN.ATM.CO2E.PC  1961  15.681256  \n",
       "77087   EN.ATM.CO2E.PC  1962  16.013937  \n",
       "105704  EN.ATM.CO2E.PC  1963  16.482762  \n",
       "134742  EN.ATM.CO2E.PC  1964  16.968119  "
      ]
     },
     "execution_count": 10,
     "metadata": {},
     "output_type": "execute_result"
    }
   ],
   "source": [
    "df = world[(world.CountryName == \"United States\") & (world.IndicatorName == \"CO2 emissions (metric tons per capita)\")]\n",
    "df.head(5)"
   ]
  },
  {
   "cell_type": "markdown",
   "metadata": {},
   "source": [
    "**Q2.2** Plot the trend of CO2 emissions over time in USA (10 points)"
   ]
  },
  {
   "cell_type": "code",
   "execution_count": 11,
   "metadata": {},
   "outputs": [
    {
     "data": {
      "text/plain": [
       "Text(0.5, 1.0, 'Yearly Trends: CO2 Emissions Per Capita (USA)')"
      ]
     },
     "execution_count": 11,
     "metadata": {},
     "output_type": "execute_result"
    },
    {
     "data": {
      "image/png": "[encoded data removed]",
      "text/plain": [
       "<Figure size 432x288 with 1 Axes>"
      ]
     },
     "metadata": {
      "needs_background": "light"
     },
     "output_type": "display_data"
    }
   ],
   "source": [
    "%matplotlib inline\n",
    "import matplotlib as mpl\n",
    "import matplotlib.pyplot as plt\n",
    "plt.plot(df.Year, df.Value, color='green', marker = 'o')\n",
    "plt.xlabel(\"Year\")\n",
    "plt.ylabel('CO2 emissions (metric tons per capita)')\n",
    "plt.title('Yearly Trends: CO2 Emissions Per Capita (USA)')\n",
    "\n",
    "\n",
    "\n"
   ]
  },
  {
   "cell_type": "markdown",
   "metadata": {},
   "source": [
    "### But how do the USA's numbers relate to those of other countries?"
   ]
  },
  {
   "cell_type": "markdown",
   "metadata": {},
   "source": [
    "**Q2.3** (20 points)\n",
    "\n",
    "- select CO2 emissions per capital for all countries in 2011\n",
    "- plot a histogram of the emmissions per capita by country\n",
    "- indicate the position of USA in the plot\n"
   ]
  },
  {
   "cell_type": "code",
   "execution_count": 12,
   "metadata": {},
   "outputs": [
    {
     "name": "stdout",
     "output_type": "stream",
     "text": [
      "<class 'numpy.ndarray'>\n"
     ]
    },
    {
     "data": {
      "text/plain": [
       "Text(0.5, 1.0, 'Histogram: CO2 Emissions Per Capita (Worldwide)')"
      ]
     },
     "execution_count": 12,
     "metadata": {},
     "output_type": "execute_result"
    },
    {
     "data": {
      "image/png": "[encoded data removed]",
      "text/plain": [
       "<Figure size 432x288 with 1 Axes>"
      ]
     },
     "metadata": {
      "needs_background": "light"
     },
     "output_type": "display_data"
    }
   ],
   "source": [
    "from matplotlib.ticker import FormatStrFormatter\n",
    "\n",
    "fig, ax = plt.subplots()\n",
    "df2 = world[(world.Year == 2011) & (world.IndicatorName == \"CO2 emissions (metric tons per capita)\")]\n",
    "\n",
    "usa_df2 = df2.loc[df2['CountryCode']=='USA'][\"Value\"]\n",
    "\n",
    "counts, bins, patches = ax.hist(df2['Value'])\n",
    "print(type(bins))\n",
    "ax.set_xticks(bins)\n",
    "\n",
    "#tick label\n",
    "ax.annotate(\"USA\",color = 'red',\n",
    "            xy=(usa_df2, 5), xycoords='data',\n",
    "            xytext=(usa_df2, 30), textcoords='data',\n",
    "            arrowprops=dict(arrowstyle=\"->\",\n",
    "                            connectionstyle=\"arc3\",  color = 'red'),\n",
    "            )\n",
    "ax.xaxis.set_major_formatter(FormatStrFormatter('%0.1f'))\n",
    "\n",
    "#Histogram\n",
    "plt.hist(df2['Value'], bins, color= 'green')\n",
    "plt.xlabel(\"CO2 emissions (metric tons per capita)\")\n",
    "plt.ylabel('Countries#')\n",
    "plt.title('Histogram: CO2 Emissions Per Capita (Worldwide)')\n"
   ]
  },
  {
   "cell_type": "markdown",
   "metadata": {},
   "source": [
    "### ScatterPlot for comparing GDP against CO2 emissions (per capita) in USA"
   ]
  },
  {
   "cell_type": "markdown",
   "metadata": {},
   "source": [
    "**Q2.4** (20 points)\n",
    "\n",
    "- Select GDP Per capital for USA (Indicator = 'GDP per capita (constant 2005 US$)')\n",
    "- Use a scattor plot to explore the relationship between GDP and CO2 emissions\n",
    "\n",
    "Hint: before plotting, you have to make sure that the two measures cover the same period of time"
   ]
  },
  {
   "cell_type": "code",
   "execution_count": 13,
   "metadata": {},
   "outputs": [
    {
     "data": {
      "image/png": "[encoded data removed]",
      "text/plain": [
       "<Figure size 432x288 with 1 Axes>"
      ]
     },
     "metadata": {
      "needs_background": "light"
     },
     "output_type": "display_data"
    }
   ],
   "source": [
    "# YOUR CODES\n",
    "df3 = world[(world.CountryName == \"United States\") & (world.IndicatorName == 'GDP per capita (constant 2005 US$)')]\n",
    "df3 = df3.rename(columns={'Value':'GDP_per_capita', 'IndicatorName':'GDP_Indicator'})\n",
    "df = df.rename(columns={'Value':'CO2_Emissions', 'IndicatorName':'CO2_Indicator'})\n",
    "df4 = pd.merge(df, df3, on=\"Year\")\n",
    "\n",
    "# df4.head(15)\n",
    "plt.scatter(df4.GDP_per_capita, df4.CO2_Emissions, alpha=0.5,  color = 'green')\n",
    "plt.title('USA GDP vs CO2 Emissions')\n",
    "plt.xlabel('GDP_per_capita')\n",
    "plt.ylabel('CO2_Emissions')\n",
    "plt.show()\n"
   ]
  },
  {
   "cell_type": "markdown",
   "metadata": {},
   "source": [
    "## Part III: We are missing data (22 points)"
   ]
  },
  {
   "cell_type": "markdown",
   "metadata": {},
   "source": [
    "The above analyses have suggested that not all countries have all indicators for all years. Thus, let's pick indicators and countries which have data over the same time range"
   ]
  },
  {
   "cell_type": "code",
   "execution_count": 14,
   "metadata": {},
   "outputs": [],
   "source": [
    "# range of the three variables\n",
    "\n",
    "countries_list = world['CountryName'].unique().tolist()\n",
    "indicators_list = world['IndicatorName'].unique().tolist()\n",
    "\n",
    "yearfilter = range(2000,2012)"
   ]
  },
  {
   "cell_type": "markdown",
   "metadata": {},
   "source": [
    "**Q3.1** write a program to find **TWO** countries from **countries_list** and **ONE** indicator from **indicators_list** so that the selected two countries have records of the indicator from 2000 to 2011 (the time range is defined in **yearfilter**). (16 points)\n",
    "\n",
    "For example, both Bermuda and Costa Rica have records of the indicator \"Merchandise exports to developing economies outside region (% of total merchandise exports)\" from 2000 to 2011.\n",
    "\n",
    "Hint: https://pandas.pydata.org/pandas-docs/stable/reference/api/pandas.DataFrame.isin.html\n",
    "\n",
    "Expected output:\n",
    "- Two dataframe, indicating the two countries separately\n",
    "- The two dataframe only include data with the specific indicator\n",
    "- Both dataframe cover the same period of time from 2000 to 2011"
   ]
  },
  {
   "cell_type": "code",
   "execution_count": 15,
   "metadata": {},
   "outputs": [
    {
     "name": "stdout",
     "output_type": "stream",
     "text": [
      "['Japan', 'Sri Lanka'] have all values present, in 2000-2011, for indicator: Contributing family workers, male (% of males employed)\n"
     ]
    }
   ],
   "source": [
    "import random          \n",
    "# Creating aggregate table of Indicators and Countries(2) with data in 2000-2011\n",
    "df5 = world[(world.Year <= 2011) & (world.Year >= 2000)].groupby(['IndicatorName','CountryName'], as_index = False).count()\n",
    "df6 = df5[(df5.Value ==12)]   \n",
    "# Creating aggregate dataframe for Indicators with atleast 2 countries fulfilling the 12 year data condition\n",
    "indicators_country = df6.groupby(['IndicatorName'], as_index = False)[['CountryName']].count()\n",
    "# Creating list of Indicators from above dataframe\n",
    "indicators_list = indicators_country[(indicators_country.CountryName >= 2)]['IndicatorName'].unique().tolist()\n",
    "# Taking Random Indicator\n",
    "random_indicator = random.choice(indicators_list)\n",
    "# Taking Random 2 Countries for the given Indicator\n",
    "select_countries = random.choices(list(df6[(df6['IndicatorName'] == random_indicator)].CountryName), k=2)\n",
    "# Print\n",
    "print(\"{} have all values present, in 2000-2011, for indicator: {}\".format(select_countries, random_indicator) )\n",
    "\n"
   ]
  },
  {
   "cell_type": "markdown",
   "metadata": {},
   "source": [
    "**Q3.2** Plot the correlation of the two countries with the selected indicator (scatter plots) (6 points)"
   ]
  },
  {
   "cell_type": "code",
   "execution_count": 16,
   "metadata": {},
   "outputs": [
    {
     "data": {
      "image/png": "[encoded data removed]",
      "text/plain": [
       "<Figure size 432x288 with 1 Axes>"
      ]
     },
     "metadata": {
      "needs_background": "light"
     },
     "output_type": "display_data"
    }
   ],
   "source": [
    "# YOUR CODES\n",
    "df7 = world[(world.CountryName == select_countries[0]) & (world.IndicatorName == random_indicator) & (world['Year'].between(2000,2011))]\n",
    "df8 = world[(world.CountryName == select_countries[1]) & (world.IndicatorName == random_indicator) & (world['Year'].between(2000,2011))]\n",
    "df9 = pd.merge(df7, df8, on=\"Year\")\n",
    "\n",
    "\n",
    "plt.scatter(df9.Value_x, df9.Value_y, alpha=0.5, color = 'green')\n",
    "plt.title('Comparative GDP Data for two countries')\n",
    "plt.xlabel(select_countries[0])\n",
    "plt.ylabel(select_countries[1])\n",
    "plt.show()"
   ]
  }
 ],
 "metadata": {
  "kernelspec": {
   "display_name": "Python 3",
   "language": "python",
   "name": "python3"
  },
  "language_info": {
   "codemirror_mode": {
    "name": "ipython",
    "version": 3
   },
   "file_extension": ".py",
   "mimetype": "text/x-python",
   "name": "python",
   "nbconvert_exporter": "python",
   "pygments_lexer": "ipython3",
   "version": "3.7.3"
  }
 },
 "nbformat": 4,
 "nbformat_minor": 2
}
