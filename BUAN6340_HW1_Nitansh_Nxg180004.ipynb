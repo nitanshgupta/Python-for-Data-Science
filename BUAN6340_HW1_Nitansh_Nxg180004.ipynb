{
 "cells": [
  {
   "cell_type": "markdown",
   "metadata": {},
   "source": [
    "# Assignment 1 \n",
    "## Programming for Data Science (BUAN 6340)\n",
    "\n",
    "### <font color='red'>Due Date: September 22, 2019 11:59pm</font> "
   ]
  },
  {
   "cell_type": "markdown",
   "metadata": {},
   "source": [
    "Deliverables:\n",
    "\n",
    "- Write down your codes in the given cells described in this file, denoted as \"YOUR CODE HERE\"\n",
    "- Use \"download as\" in the \"file\" menu to convert your ipython file to a .html file\n",
    "- Submit both .ipynb and .html files to the eLearning (you might need to compress them into one single file)\n",
    "\n",
    "\n",
    "This assignment covers Python Basics\n",
    "\n",
    "\n",
    "The total score: 100"
   ]
  },
  {
   "cell_type": "code",
   "execution_count": 7,
   "metadata": {},
   "outputs": [],
   "source": [
    "NAME = \"Nitansh Gupta\"\n",
    "Session = \"Wednesday 1pm-3:45pm\""
   ]
  },
  {
   "cell_type": "markdown",
   "metadata": {},
   "source": [
    "## Q1 (30 points)\n",
    "\n",
    "Write a Python program to convert temperatures to and from Celsius, Fahrenheit. \n",
    "\n",
    "In the program, you will allow users to enter a temperature followed with either 'C' or 'F' (e.g., 60C, 45F). (Hint: you need to detect whether a user enters Celsius or Fahrenheit and then do corresponding calcualations)\n",
    "\n",
    "Formula : c/5 = (f-32)/9, where c = temperature in Celsius and f = temperature in Fahrenheit \n",
    "\n",
    "Expected Output : \n",
    "- 60C is 140 in Fahrenheit\n",
    "- 45F is 7 in Celsius \n"
   ]
  },
  {
   "cell_type": "code",
   "execution_count": 2,
   "metadata": {},
   "outputs": [
    {
     "name": "stdout",
     "output_type": "stream",
     "text": [
      "Put temperature in Celsius or Farenheit(Accepted formats: 19C or 39F): 10F\n",
      "10F is -26 in Celicius.\n"
     ]
    }
   ],
   "source": [
    "# Your codes here\n",
    "temperature = input(\"Put temperature in Celsius or Farenheit(Accepted formats: 19C or 39F): \")\n",
    "try:\n",
    "    if 'c' in temperature.lower():\n",
    "        temp = float(temperature.lower().replace('c',''))\n",
    "        tempf = 9*temp/5+32\n",
    "        print(temperature+\" is \"+ str(int(tempf))+\" in Fahrenheit.\")\n",
    "\n",
    "    elif 'f' in temperature.lower():\n",
    "        temp = float(temperature.lower().replace('f',''))\n",
    "        tempc = 5*temp/9-32\n",
    "        print(temperature+\" is \"+ str(int(tempc))+\" in Celicius.\")\n",
    "    else:                                          #in case the input contains neither C nor F\n",
    "        print(\"Invalid Input: Character(s) other than  'C' or 'F'.\")\n",
    "    \n",
    "except:                                            #in case the input contains C and/or F and any additional character\n",
    "    print(\"invalid input: Extra character(s) other than only 'C' or only 'F'.\")"
   ]
  },
  {
   "cell_type": "markdown",
   "metadata": {},
   "source": [
    "## Q2 (30 points)\n",
    "\n",
    "Define a function that\n",
    "- gets a sequence of comma-separated numbers from the user as its argument\n",
    "- transforms it to a list\n",
    "- adds the maximum and minimum numbers of the list (Hint: you need to make sure the items are numeric)\n",
    "- returns the sum\n"
   ]
  },
  {
   "cell_type": "code",
   "execution_count": 3,
   "metadata": {},
   "outputs": [
    {
     "name": "stdout",
     "output_type": "stream",
     "text": [
      "Enter a sequence of comma-separated numbers: 10,a,4c,5,2,4,6\n",
      "Sum of the maximum and minimum numbers of the list: 12.0\n"
     ]
    }
   ],
   "source": [
    "# Your codes here\n",
    "def maxmin_sum():\n",
    "    number_string = input(\"Enter a sequence of comma-separated numbers: \")\n",
    "    number_list = number_string.split(',')\n",
    "                                            #Converting type of string elements to float if they are numbers\n",
    "    number_list = [float(element) if element.isdigit() == True else element for element in number_list ]\n",
    "                                            # print(type(number_list[0]))\n",
    "                                            # Making list of only Numerical values; print(number_list_nochar)\n",
    "    number_list_nochar = [elm for elm in number_list if isinstance(elm, float)]       \n",
    "    print(\"Sum of the maximum and minimum numbers of the list: \"+ str(max(number_list_nochar)+min(number_list_nochar)))\n",
    "\n",
    "maxmin_sum()\n",
    "\n",
    "#test: 10,a,4c,5,2,4,6"
   ]
  },
  {
   "cell_type": "markdown",
   "metadata": {},
   "source": [
    "## Q3 (25 points)\n",
    "\n",
    "Write a function and use regular expressions to make sure the password a user enters is a strong password.\n",
    "\n",
    "Notes:\n",
    "- Users should keep entering the password until it is strong\n",
    "- The password should contain: (1) at least 8 characters; (2) uppercase character(s); (3) lowercase character(s); and (4) at least one digit. \n",
    "- You may need to test the string against multiple regex patterns to validate its strength.\n"
   ]
  },
  {
   "cell_type": "code",
   "execution_count": 4,
   "metadata": {},
   "outputs": [
    {
     "name": "stdout",
     "output_type": "stream",
     "text": [
      "Enter A Password: abc1@\n",
      "\n",
      "Entered Password is not valid!\n",
      "Issues:\n",
      "- Less than 8 Characters\n",
      "- Missing Upper Case Character\n",
      "Re-Enter A Password: AabBcCdD\n",
      "\n",
      "Entered Password is not valid!\n",
      "Issues:\n",
      "- Missing Numeric Character \n",
      "- Missing Special Character\n",
      "Re-Enter A Password: AbC@123456\n",
      "\n",
      "Valid password!\n"
     ]
    }
   ],
   "source": [
    "import re\n",
    "pattern = \"^.*(?=.{8,})(?=.*\\d)(?=.*[a-z])(?=.*[A-Z])(?=.*[@#$%^&+=]).*$\"\n",
    "min_char = \"^.*(?=.{8,}).*$\"\n",
    "int_char = \"^.*(?=.*\\d).*$\"\n",
    "uc_char = \"^.*(?=.*[A-Z]).*$\"\n",
    "lc_char = \"^.*(?=.*[a-z]).*$\"\n",
    "sp_char = \"^.*(?=.*[@#$%^&+=]).*$\"\n",
    "x= \"\"\n",
    "while True:\n",
    "    password = input(x+\"Enter A Password: \")\n",
    "    result = re.findall(pattern, password)\n",
    "    if (result):\n",
    "        print (\"\\nValid password!\")\n",
    "        break\n",
    "    else:\n",
    "        print (\"\\nEntered Password is not valid!\")\n",
    "        print(\"Issues:\")\n",
    "        if not re.findall(min_char, password):\n",
    "            print(\"- Less than 8 Characters\")\n",
    "        if not re.findall(int_char, password):\n",
    "            print(\"- Missing Numeric Character \")\n",
    "        if not re.findall(uc_char, password):\n",
    "            print(\"- Missing Upper Case Character\")\n",
    "        if not re.findall(lc_char, password):\n",
    "            print(\"- Missing Lower Case Character\")\n",
    "        if not re.findall(sp_char, password):\n",
    "            print(\"- Missing Special Character\")\n",
    "        x = \"Re-\""
   ]
  },
  {
   "cell_type": "markdown",
   "metadata": {},
   "source": [
    "## Q4 (15 points)\n",
    "\n",
    "Write a program to generate the Fibonacci seqence given the total length of the list.\n",
    "\n",
    "Hint: The Fibonacci seqence is a sequence of numbers where the next number in the sequence is the sum of the previous two numbers in the sequence. The sequence looks like this: 1, 1, 2, 3, 5, 8, 13, …\n"
   ]
  },
  {
   "cell_type": "code",
   "execution_count": 5,
   "metadata": {},
   "outputs": [
    {
     "name": "stdout",
     "output_type": "stream",
     "text": [
      "Enter the required length of the Fibonacci series: 4\n",
      "1\n",
      "1\n",
      "2\n",
      "3\n"
     ]
    }
   ],
   "source": [
    "# Your codes here\n",
    "length = input(\"Enter the required length of the Fibonacci series: \")\n",
    "a = 0\n",
    "b = 0\n",
    "c = 1\n",
    "for i in range(0,int(length)):\n",
    "    print(c)\n",
    "    a = b\n",
    "    b = c\n",
    "    c = a+b\n",
    "\n"
   ]
  }
 ],
 "metadata": {
  "kernelspec": {
   "display_name": "Python 3",
   "language": "python",
   "name": "python3"
  },
  "language_info": {
   "codemirror_mode": {
    "name": "ipython",
    "version": 3
   },
   "file_extension": ".py",
   "mimetype": "text/x-python",
   "name": "python",
   "nbconvert_exporter": "python",
   "pygments_lexer": "ipython3",
   "version": "3.7.3"
  }
 },
 "nbformat": 4,
 "nbformat_minor": 2
}
